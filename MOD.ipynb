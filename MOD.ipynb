{
 "cells": [
  {
   "cell_type": "code",
   "execution_count": 1,
   "id": "5ce309c0-63cf-4fa7-a7cb-ae192843f16f",
   "metadata": {},
   "outputs": [],
   "source": [
    "import cv2\n",
    "import numpy as np\n",
    "from ultralytics import YOLO"
   ]
  },
  {
   "cell_type": "code",
   "execution_count": 2,
   "id": "fbfd480c-00a2-41f7-8e03-66e4763e22fa",
   "metadata": {},
   "outputs": [],
   "source": [
    "# Load the model\n",
    "model = YOLO(\"yolo11n.pt\")"
   ]
  },
  {
   "cell_type": "code",
   "execution_count": 47,
   "id": "8230b772-4cae-4ebe-b6ed-011e4309290c",
   "metadata": {},
   "outputs": [],
   "source": [
    "from PIL import Image\n",
    "img = Image.open(\"images/test_9.jpeg\")\n",
    "img.show()"
   ]
  },
  {
   "cell_type": "code",
   "execution_count": 49,
   "id": "f21ec914-7a8d-4e7b-81dc-fd52ebe77d04",
   "metadata": {},
   "outputs": [
    {
     "name": "stdout",
     "output_type": "stream",
     "text": [
      "(183, 275, 3)\n"
     ]
    }
   ],
   "source": [
    "img_arr = np.array(img)\n",
    "print(img_arr.shape)"
   ]
  },
  {
   "cell_type": "code",
   "execution_count": 53,
   "id": "b763f7aa-da7f-4f39-9441-8f255429c8a4",
   "metadata": {},
   "outputs": [
    {
     "name": "stdout",
     "output_type": "stream",
     "text": [
      "\n",
      "0: 448x640 1 person, 1 cell phone, 134.3ms\n",
      "Speed: 3.6ms preprocess, 134.3ms inference, 1.8ms postprocess per image at shape (1, 3, 448, 640)\n",
      "Bounding boxes: ultralytics.engine.results.Boxes object with attributes:\n",
      "\n",
      "cls: tensor([ 0., 67.])\n",
      "conf: tensor([0.9467, 0.3793])\n",
      "data: tensor([[117.3619,   5.6197, 274.9282, 180.9847,   0.9467,   0.0000],\n",
      "        [146.7556,  89.5487, 174.1031, 151.5742,   0.3793,  67.0000]])\n",
      "id: None\n",
      "is_track: False\n",
      "orig_shape: (183, 275)\n",
      "shape: torch.Size([2, 6])\n",
      "xywh: tensor([[196.1450,  93.3022, 157.5663, 175.3650],\n",
      "        [160.4294, 120.5614,  27.3475,  62.0255]])\n",
      "xywhn: tensor([[0.7133, 0.5098, 0.5730, 0.9583],\n",
      "        [0.5834, 0.6588, 0.0994, 0.3389]])\n",
      "xyxy: tensor([[117.3619,   5.6197, 274.9282, 180.9847],\n",
      "        [146.7556,  89.5487, 174.1031, 151.5742]])\n",
      "xyxyn: tensor([[0.4268, 0.0307, 0.9997, 0.9890],\n",
      "        [0.5337, 0.4893, 0.6331, 0.8283]])\n"
     ]
    }
   ],
   "source": [
    "result = model(img)\n",
    "print(f\"Bounding boxes: {result[0].boxes}\")"
   ]
  },
  {
   "cell_type": "code",
   "execution_count": 55,
   "id": "3e4b0db3-19b1-42e0-85e2-5c2c2f2aaedb",
   "metadata": {},
   "outputs": [],
   "source": [
    "xywh = result[0].boxes.xywh"
   ]
  },
  {
   "cell_type": "code",
   "execution_count": 57,
   "id": "915cd2ab-3b7b-481f-8739-c70f1a7da7d3",
   "metadata": {},
   "outputs": [
    {
     "data": {
      "text/plain": [
       "array([    0.54906,    0.033706], dtype=float32)"
      ]
     },
     "execution_count": 57,
     "metadata": {},
     "output_type": "execute_result"
    }
   ],
   "source": [
    "# Area of object\n",
    "H, W = result[0].boxes.orig_shape\n",
    "widths = xywh[:, 2].numpy()\n",
    "heights = xywh[:, 3].numpy()\n",
    "\n",
    "areas = widths * heights\n",
    "areas_norm = areas / (W * H)\n",
    "areas_norm"
   ]
  },
  {
   "cell_type": "code",
   "execution_count": 59,
   "id": "ead7405b-dd33-4a82-bcb0-f68fe814b161",
   "metadata": {},
   "outputs": [
    {
     "data": {
      "text/plain": [
       "array([    0.94666,     0.37928], dtype=float32)"
      ]
     },
     "execution_count": 59,
     "metadata": {},
     "output_type": "execute_result"
    }
   ],
   "source": [
    "conf = result[0].boxes.conf.numpy()\n",
    "conf"
   ]
  },
  {
   "cell_type": "code",
   "execution_count": 61,
   "id": "82d5003c-d4f2-4e0b-91cd-b19dbec1c250",
   "metadata": {},
   "outputs": [
    {
     "name": "stdout",
     "output_type": "stream",
     "text": [
      "Centre distance:  [     58.673      37.018]\n",
      "Normalized distance:  [    0.35524     0.22413]\n"
     ]
    }
   ],
   "source": [
    "# centre distance from the box\n",
    "H, W = result[0].boxes.orig_shape # Original shape\n",
    "\n",
    "# Image centre\n",
    "cx_img, cy_img = W / 2, H / 2\n",
    "\n",
    "# box centres\n",
    "cx = xywh[:, 0].numpy()\n",
    "cy = xywh[:, 1].numpy()\n",
    "\n",
    "# Distance formula (Euclidean)\n",
    "dx = cx - cx_img\n",
    "dy = cy - cy_img\n",
    "dist = np.sqrt(dx**2 + dy**2)\n",
    "\n",
    "# Normalization (max_dist = diagonal/2)\n",
    "max_dist = np.sqrt((W/2)**2 + (H/2)**2)\n",
    "dist_norm = dist/max_dist\n",
    "\n",
    "print(\"Centre distance: \", dist)\n",
    "print(\"Normalized distance: \", dist_norm)"
   ]
  },
  {
   "cell_type": "code",
   "execution_count": 63,
   "id": "852d0230-a6b9-4e45-8dde-618d9013bdc6",
   "metadata": {},
   "outputs": [
    {
     "data": {
      "text/plain": [
       "0"
      ]
     },
     "execution_count": 63,
     "metadata": {},
     "output_type": "execute_result"
    }
   ],
   "source": [
    "\"\"\"\n",
    "    Filtering main object\n",
    "\n",
    "    Factor importance:\n",
    "        alpha ~ Area of object\n",
    "        beta ~ Confindence\n",
    "        gamma ~ centre distance\n",
    "\"\"\"\n",
    "\n",
    "\n",
    "alpha = 0.5\n",
    "beta = 0.4\n",
    "gamma = 0.1\n",
    "\n",
    "score = alpha*areas_norm + beta*conf - gamma*dist_norm\n",
    "main_idx = int(np.argmax(score))\n",
    "main_idx"
   ]
  },
  {
   "cell_type": "code",
   "execution_count": 65,
   "id": "abf4ade2-1e4f-4716-a639-02da34f50a33",
   "metadata": {},
   "outputs": [
    {
     "data": {
      "text/plain": [
       "array([[[ 26,  28,  29],\n",
       "        [ 40,  42,  43],\n",
       "        [ 47,  49,  50],\n",
       "        ...,\n",
       "        [143, 139, 138],\n",
       "        [143, 137, 138],\n",
       "        [109, 103, 104]],\n",
       "\n",
       "       [[ 28,  30,  31],\n",
       "        [ 42,  44,  45],\n",
       "        [ 48,  50,  51],\n",
       "        ...,\n",
       "        [148, 144, 143],\n",
       "        [148, 142, 143],\n",
       "        [116, 110, 111]],\n",
       "\n",
       "       [[ 33,  35,  36],\n",
       "        [ 45,  47,  48],\n",
       "        [ 49,  51,  52],\n",
       "        ...,\n",
       "        [154, 150, 149],\n",
       "        [155, 149, 150],\n",
       "        [124, 118, 119]],\n",
       "\n",
       "       ...,\n",
       "\n",
       "       [[ 40,  42,  43],\n",
       "        [ 44,  46,  47],\n",
       "        [ 52,  54,  55],\n",
       "        ...,\n",
       "        [ 80,  78,  78],\n",
       "        [ 37,  32,  29],\n",
       "        [ 54,  47,  44]],\n",
       "\n",
       "       [[ 40,  42,  43],\n",
       "        [ 44,  46,  47],\n",
       "        [ 50,  52,  53],\n",
       "        ...,\n",
       "        [ 63,  61,  61],\n",
       "        [ 70,  65,  62],\n",
       "        [ 12,   5,   2]],\n",
       "\n",
       "       [[ 41,  43,  44],\n",
       "        [ 43,  45,  46],\n",
       "        [ 49,  51,  52],\n",
       "        ...,\n",
       "        [ 65,  63,  63],\n",
       "        [  5,   0,   0],\n",
       "        [ 34,  27,  24]]], shape=(183, 275, 3), dtype=uint8)"
      ]
     },
     "execution_count": 65,
     "metadata": {},
     "output_type": "execute_result"
    }
   ],
   "source": [
    "x1, y1, x2, y2 = result[0].boxes.xyxy[main_idx].numpy().astype(int)\n",
    "\n",
    "img_vls = result[0].orig_img.copy()\n",
    "img_vls"
   ]
  },
  {
   "cell_type": "code",
   "execution_count": 67,
   "id": "75864ea0-1862-4e26-b0e0-001fb4682c41",
   "metadata": {},
   "outputs": [
    {
     "data": {
      "text/plain": [
       "np.int64(117)"
      ]
     },
     "execution_count": 67,
     "metadata": {},
     "output_type": "execute_result"
    }
   ],
   "source": [
    "x1"
   ]
  },
  {
   "cell_type": "code",
   "execution_count": 69,
   "id": "2678887c-be12-4aea-84b4-c6f9cf16248d",
   "metadata": {},
   "outputs": [],
   "source": [
    "cv2.rectangle(img_vls, (x1, y1), (x2, y2), (255, 0, 0), 2)\n",
    "cv2.imshow(\"Main Object\", img_vls)\n",
    "cv2.waitKey(0)\n",
    "cv2.destroyAllWindows()"
   ]
  },
  {
   "cell_type": "code",
   "execution_count": null,
   "id": "529b18b7-3eb4-4899-8a36-e4b00979e781",
   "metadata": {},
   "outputs": [],
   "source": []
  }
 ],
 "metadata": {
  "kernelspec": {
   "display_name": "MOD",
   "language": "python",
   "name": "mod_kernel"
  },
  "language_info": {
   "codemirror_mode": {
    "name": "ipython",
    "version": 3
   },
   "file_extension": ".py",
   "mimetype": "text/x-python",
   "name": "python",
   "nbconvert_exporter": "python",
   "pygments_lexer": "ipython3",
   "version": "3.12.4"
  }
 },
 "nbformat": 4,
 "nbformat_minor": 5
}
